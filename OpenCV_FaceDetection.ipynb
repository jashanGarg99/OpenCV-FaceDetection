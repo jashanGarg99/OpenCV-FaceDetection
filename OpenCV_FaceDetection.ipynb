{
  "nbformat": 4,
  "nbformat_minor": 0,
  "metadata": {
    "colab": {
      "provenance": [],
      "authorship_tag": "ABX9TyMA/uLOwJWL0mx5kmIIWxiC",
      "include_colab_link": true
    },
    "kernelspec": {
      "name": "python3",
      "display_name": "Python 3"
    },
    "language_info": {
      "name": "python"
    }
  },
  "cells": [
    {
      "cell_type": "markdown",
      "metadata": {
        "id": "view-in-github",
        "colab_type": "text"
      },
      "source": [
        "<a href=\"https://colab.research.google.com/github/ManthanVerma7/OpenCV-FaceDetection/blob/main/OpenCV_FaceDetection.ipynb\" target=\"_parent\"><img src=\"https://colab.research.google.com/assets/colab-badge.svg\" alt=\"Open In Colab\"/></a>"
      ]
    },
    {
      "cell_type": "code",
      "execution_count": null,
      "metadata": {
        "id": "DspVYzi6qJir"
      },
      "outputs": [],
      "source": [
        "import cv2 #importing openCV\n",
        "face_cap = cv2.CascadeClassifier(\"C:/Users/Administrator/AppData/Local/Programs/Python/Python313/Lib/site-packages/cv2/data/haarcascade_frontalface_default.xml\")\n",
        "video_cap = cv2.VideoCapture(0) #assigning a variable to capture video\n",
        "while True: #infinite loop\n",
        "    ret, video_data = video_cap.read() #reading the captured video\n",
        "    col = cv2.cvtColor(video_data, cv2.COLOR_BGR2GRAY)\n",
        "    faces = face_cap.detectMultiScale(\n",
        "        col,\n",
        "        scaleFactor= 1.1,\n",
        "        minNeighbors= 5,\n",
        "        minSize= (30,30),\n",
        "        flags= cv2.CASCADE_SCALE_IMAGE\n",
        "    )\n",
        "    for (x,y,w,h) in faces:\n",
        "        cv2.rectangle(video_data, (x,y), (x+w, y+h), (0,255,0), 2)\n",
        "    cv2.imshow(\"Live_Video\", video_data) #giving camera a title\n",
        "    if cv2.waitKey(10) == ord(\"x\" and \"X\"): #exiting the camera by clicking \"x\"\n",
        "        break\n",
        "video_cap.release() #releasing the capture video variavle to start video\n"
      ]
    }
  ]
}